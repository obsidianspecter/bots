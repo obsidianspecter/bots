{
 "cells": [
  {
   "cell_type": "code",
   "execution_count": 2,
   "id": "44db909f-6c75-46f3-9547-3b4ee2f897f8",
   "metadata": {},
   "outputs": [
    {
     "name": "stdout",
     "output_type": "stream",
     "text": [
      "Defaulting to user installation because normal site-packages is not writeable\n",
      "Collecting nltk\n",
      "  Downloading nltk-3.8.1-py3-none-any.whl.metadata (2.8 kB)\n",
      "Requirement already satisfied: click in c:\\users\\anvin\\appdata\\local\\packages\\pythonsoftwarefoundation.python.3.12_qbz5n2kfra8p0\\localcache\\local-packages\\python312\\site-packages (from nltk) (8.1.7)\n",
      "Collecting joblib (from nltk)\n",
      "  Downloading joblib-1.4.2-py3-none-any.whl.metadata (5.4 kB)\n",
      "Collecting regex>=2021.8.3 (from nltk)\n",
      "  Downloading regex-2024.5.15-cp312-cp312-win_amd64.whl.metadata (41 kB)\n",
      "     ---------------------------------------- 0.0/42.0 kB ? eta -:--:--\n",
      "     ----------------------------- ---------- 30.7/42.0 kB 1.4 MB/s eta 0:00:01\n",
      "     -------------------------------------- 42.0/42.0 kB 511.8 kB/s eta 0:00:00\n",
      "Collecting tqdm (from nltk)\n",
      "  Downloading tqdm-4.66.4-py3-none-any.whl.metadata (57 kB)\n",
      "     ---------------------------------------- 0.0/57.6 kB ? eta -:--:--\n",
      "     ---------------------------------------- 57.6/57.6 kB 3.0 MB/s eta 0:00:00\n",
      "Requirement already satisfied: colorama in c:\\users\\anvin\\appdata\\local\\packages\\pythonsoftwarefoundation.python.3.12_qbz5n2kfra8p0\\localcache\\local-packages\\python312\\site-packages (from click->nltk) (0.4.6)\n",
      "Downloading nltk-3.8.1-py3-none-any.whl (1.5 MB)\n",
      "   ---------------------------------------- 0.0/1.5 MB ? eta -:--:--\n",
      "   -- ------------------------------------- 0.1/1.5 MB 6.4 MB/s eta 0:00:01\n",
      "   ------ --------------------------------- 0.2/1.5 MB 3.8 MB/s eta 0:00:01\n",
      "   ------------ --------------------------- 0.5/1.5 MB 4.2 MB/s eta 0:00:01\n",
      "   ------------------- -------------------- 0.7/1.5 MB 5.2 MB/s eta 0:00:01\n",
      "   ---------------------- ----------------- 0.9/1.5 MB 5.4 MB/s eta 0:00:01\n",
      "   ------------------------------ --------- 1.2/1.5 MB 5.2 MB/s eta 0:00:01\n",
      "   ---------------------------------- ----- 1.3/1.5 MB 5.6 MB/s eta 0:00:01\n",
      "   ------------------------------------ --- 1.4/1.5 MB 5.5 MB/s eta 0:00:01\n",
      "   ---------------------------------------- 1.5/1.5 MB 4.8 MB/s eta 0:00:00\n",
      "Downloading regex-2024.5.15-cp312-cp312-win_amd64.whl (268 kB)\n",
      "   ---------------------------------------- 0.0/268.5 kB ? eta -:--:--\n",
      "   ---------------------------- ----------- 194.6/268.5 kB 5.9 MB/s eta 0:00:01\n",
      "   ---------------------------------------- 268.5/268.5 kB 4.2 MB/s eta 0:00:00\n",
      "Downloading joblib-1.4.2-py3-none-any.whl (301 kB)\n",
      "   ---------------------------------------- 0.0/301.8 kB ? eta -:--:--\n",
      "   ---------------------------------------- 301.8/301.8 kB 9.4 MB/s eta 0:00:00\n",
      "Downloading tqdm-4.66.4-py3-none-any.whl (78 kB)\n",
      "   ---------------------------------------- 0.0/78.3 kB ? eta -:--:--\n",
      "   ---------------------------------------- 78.3/78.3 kB ? eta 0:00:00\n",
      "Installing collected packages: tqdm, regex, joblib, nltk\n",
      "Successfully installed joblib-1.4.2 nltk-3.8.1 regex-2024.5.15 tqdm-4.66.4\n",
      "Note: you may need to restart the kernel to use updated packages.\n"
     ]
    },
    {
     "name": "stderr",
     "output_type": "stream",
     "text": [
      "\n",
      "[notice] A new release of pip is available: 24.0 -> 24.1.2\n",
      "[notice] To update, run: C:\\Users\\anvin\\AppData\\Local\\Microsoft\\WindowsApps\\PythonSoftwareFoundation.Python.3.12_qbz5n2kfra8p0\\python.exe -m pip install --upgrade pip\n"
     ]
    }
   ],
   "source": [
    "pip install nltk\n"
   ]
  },
  {
   "cell_type": "code",
   "execution_count": 3,
   "id": "a4841151-59df-4356-80b0-f13c57acd70d",
   "metadata": {},
   "outputs": [],
   "source": [
    "from nltk.chat.util import Chat, reflections"
   ]
  },
  {
   "cell_type": "code",
   "execution_count": 24,
   "id": "723c46e7-b974-4d39-909b-eabb835e6ced",
   "metadata": {},
   "outputs": [],
   "source": [
    "pairs = [\n",
    "    [\n",
    "        r\"(.*)my name is (.*)\",\n",
    "        [\"Hello %2, How are you today?\",]\n",
    "    ],\n",
    "    [\n",
    "        r\"(.*)help(.*)\",\n",
    "        [\"I can assist you.\",]\n",
    "    ],\n",
    "    [\n",
    "        r\"(.*) your name ?\",\n",
    "        [\"My name is dekroose, but you can just call me robot and I'm a chatbot.\",]\n",
    "    ],\n",
    "    [\n",
    "        r\"how are you (.*) ?\",\n",
    "        [\"I'm doing very well\", \"I am great!\"]\n",
    "    ],\n",
    "    [\n",
    "        r\"sorry (.*)\",\n",
    "        [\"It's alright\", \"It's OK, never mind that\",]\n",
    "    ],\n",
    "    [\n",
    "        r\"i'm (.*) (good|well|okay|ok)\",\n",
    "        [\"Nice to hear that\", \"Alright, great!\",]\n",
    "    ],\n",
    "    [\n",
    "        r\"(hi|hey|hello|hola|holla)(.*)\",\n",
    "        [\"Hello\", \"Hey there\",]\n",
    "    ],\n",
    "    [\n",
    "        r\"what (.*) want ?\",\n",
    "        [\"Make me an offer I can't refuse\",]\n",
    "    ],\n",
    "    [\n",
    "        r\"(.*)created(.*)\",\n",
    "        [\"Aman Kharwal created me using Python's NLTK library\", \"Top secret ;)\",]\n",
    "    ],\n",
    "    [\n",
    "        r\"(.*) (location|city) ?\",\n",
    "        [\"New Delhi, India\",]\n",
    "    ],\n",
    "    [\n",
    "        r\"(.*)raining in (.*)\",\n",
    "        [\"No rain in the past 4 days here in %2\", \"In %2 there is a 50% chance of rain\",]\n",
    "    ],\n",
    "    [\n",
    "        r\"how (.*) health (.*)\",\n",
    "        [\"Health is very important, but I am a computer, so I don't need to worry about my health\",]\n",
    "    ],\n",
    "    [\n",
    "        r\"(.*)(sports|game|sport)(.*)\",\n",
    "        [\"I'm a very big fan of Cricket\",]\n",
    "    ],\n",
    "    [\n",
    "        r\"who (.*) (Cricketer|Batsman)?\",\n",
    "        [\"Virat Kohli\"]\n",
    "    ],\n",
    "    [\n",
    "        r\"quit\",\n",
    "        [\"Bye for now. See you soon :)\", \"It was nice talking to you. See you soon :)\"]\n",
    "    ],\n",
    "    [\n",
    "        r\"(.*)\",\n",
    "        [\"That is nice to hear\"]\n",
    "    ],\n",
    "    [\n",
    "        r\"(.*) (tell me a joke|joke)\",\n",
    "        [\"Sure! Why don't scientists trust atoms? Because they make up everything!\", \"What do you get when you cross a snowman and a vampire? Frostbite!\",]\n",
    "    ],\n",
    "    [\n",
    "        r\"(.*) (favorite color|colour)\",\n",
    "        [\"I don't have eyes to see colors, but I appreciate all colors equally!\", \"I think all colors are wonderful!\",]\n",
    "    ],\n",
    "    [\n",
    "        r\"(.*) (how old are you|birthday)\",\n",
    "        [\"I don't age like humans do, but I'm always here to chat!\",]\n",
    "    ],\n",
    "    [\n",
    "        r\"(.*) (learn|study) (programming|code|Python)\",\n",
    "        [\"I'm familiar with programming concepts and can help you understand them!\", \"Learning programming? I'm here to assist!\",]\n",
    "    ],\n",
    "    [\n",
    "        r\"(.*) (news|latest news)\",\n",
    "        [\"I can provide you with the latest news updates!\", \"What specific news are you interested in?\",]\n",
    "    ],\n",
    "    [\n",
    "        r\"(.*) (today's date|date|day)\",\n",
    "        [\"Today is %DATE%.\", \"It's %DATE% today.\",]\n",
    "    ],\n",
    "    [\n",
    "        r\"(.*) (time|current time)\",\n",
    "        [\"The current time is %TIME%.\", \"It's %TIME% right now.\",]\n",
    "    ],\n",
    "    [\n",
    "        r\"(.*) (music|favorite music)\",\n",
    "        [\"I enjoy all kinds of music!\", \"What's your favorite genre?\",]\n",
    "    ],\n",
    "    [\n",
    "        r\"(.*) (tell me a story|story)\",\n",
    "        [\"Once upon a time... (Sorry, I'm still learning how to tell stories!)\",]\n",
    "    ],\n",
    "    [\n",
    "        r\"(.*) (help me understand|explain) (.*)\",\n",
    "        [\"Sure, I can help explain %3. What specifically do you want to know?\",]\n",
    "    ],\n",
    "    [\n",
    "        r\"(.*) (thank you|thanks|thanks a lot)\",\n",
    "        [\"You're welcome!\", \"Anytime!\",]\n",
    "    ],\n",
    "    [\n",
    "        r\"(.*) (are you human|bot)\",\n",
    "        [\"I'm a chatbot, here to assist you!\", \"I'm a bot, but I'm here to help you as best I can!\",]\n",
    "    ],\n",
    "    [\n",
    "        r\"(.*) (recommend|suggest) (.*)\",\n",
    "        [\"I recommend %2. It's great!\", \"Have you tried %2? It might interest you!\",]\n",
    "    ],\n",
    "    [\n",
    "        r\"(.*) (where are you|location)\",\n",
    "        [\"I exist in the digital realm, ready to chat with you!\", \"You can find me here, online and ready!\",]\n",
    "    ],\n",
    "    [\n",
    "        r\"(.*) (favorite animal|animal)\",\n",
    "        [\"I'm fascinated by all creatures, big and small!\", \"I think all animals are amazing!\",]\n",
    "    ],\n",
    "    [\n",
    "        r\"(.*) (tell me about|information about) (.*)\",\n",
    "        [\"Here's some information about %3...\", \"I'd be happy to share what I know about %3!\",]\n",
    "    ],\n",
    "    [\n",
    "        r\"(.*) (love|like) (cats|dogs)\",\n",
    "        [\"I don't have preferences, but I think cats and dogs are both wonderful!\", \"Pets are amazing companions!\",]\n",
    "    ],\n",
    "    [\n",
    "        r\"(.*) (movie|film) (recommendation|suggestion)\",\n",
    "        [\"How about trying %2? It's a great movie!\", \"Have you watched %2? It might be worth checking out!\",]\n",
    "    ],\n",
    "    [\n",
    "        r\"(.*) (how|what) (do|can) you (do|help with)\",\n",
    "        [\"I can help with various things like answering questions, providing information, and chatting!\", \"Just ask, and I'll do my best to assist you!\",]\n",
    "    ],\n",
    "    [\n",
    "        r\"(.*) (favorite hobby|hobbies)\",\n",
    "        [\"I don't have hobbies like humans, but I enjoy chatting with you!\", \"Chatting with you is my favorite activity!\",]\n",
    "    ]\n",
    "]\n"
   ]
  },
  {
   "cell_type": "code",
   "execution_count": 25,
   "id": "77684b0c-b4b9-48c3-882c-d2c979461c20",
   "metadata": {},
   "outputs": [
    {
     "name": "stdout",
     "output_type": "stream",
     "text": [
      "{'i am': 'you are', 'i was': 'you were', 'i': 'you', \"i'm\": 'you are', \"i'd\": 'you would', \"i've\": 'you have', \"i'll\": 'you will', 'my': 'your', 'you are': 'I am', 'you were': 'I was', \"you've\": 'I have', \"you'll\": 'I will', 'your': 'my', 'yours': 'mine', 'you': 'me', 'me': 'you'}\n"
     ]
    }
   ],
   "source": [
    "print(reflections)"
   ]
  },
  {
   "cell_type": "code",
   "execution_count": 26,
   "id": "81fc335e-2c2d-4229-98d6-5c9e7eaae3a0",
   "metadata": {},
   "outputs": [
    {
     "name": "stdout",
     "output_type": "stream",
     "text": [
      "{'i am': 'you are', 'i was': 'you were', 'i': 'you', \"i'm\": 'you are', \"i'd\": 'you would', \"i've\": 'you have', \"i'll\": 'you will', 'my': 'your', 'you are': 'I am', 'you were': 'I was', \"you've\": 'I have', \"you'll\": 'I will', 'your': 'my', 'yours': 'mine', 'you': 'me', 'me': 'you'}\n"
     ]
    }
   ],
   "source": [
    "print(reflections)"
   ]
  },
  {
   "cell_type": "code",
   "execution_count": 27,
   "id": "c10818dd-bbf5-43ef-972b-0c70e6fa63f9",
   "metadata": {},
   "outputs": [],
   "source": [
    "my_dummy_reflections= {\n",
    "    \"go\"     : \"gone\",\n",
    "    \"hello\"    : \"hey there\",\n",
    "    \"dude\"     : \"the fik\"\n",
    "}"
   ]
  },
  {
   "cell_type": "code",
   "execution_count": 1,
   "id": "cd4e4627-3b95-479b-9bf0-2ef9671b2d1a",
   "metadata": {},
   "outputs": [
    {
     "name": "stdout",
     "output_type": "stream",
     "text": [
      "Hi, I'm dekroose and I like to chat\n"
     ]
    },
    {
     "ename": "NameError",
     "evalue": "name 'Chat' is not defined",
     "output_type": "error",
     "traceback": [
      "\u001b[1;31m---------------------------------------------------------------------------\u001b[0m",
      "\u001b[1;31mNameError\u001b[0m                                 Traceback (most recent call last)",
      "Cell \u001b[1;32mIn[1], line 2\u001b[0m\n\u001b[0;32m      1\u001b[0m \u001b[38;5;28mprint\u001b[39m(\u001b[38;5;124m\"\u001b[39m\u001b[38;5;124mHi, I\u001b[39m\u001b[38;5;124m'\u001b[39m\u001b[38;5;124mm dekroose and I like to chat\u001b[39m\u001b[38;5;124m\"\u001b[39m)\n\u001b[1;32m----> 2\u001b[0m chat \u001b[38;5;241m=\u001b[39m \u001b[43mChat\u001b[49m(pairs, reflections)\n",
      "\u001b[1;31mNameError\u001b[0m: name 'Chat' is not defined"
     ]
    }
   ],
   "source": [
    "\n",
    "print(\"Hi, I'm dekroose and I like to chat\")\n",
    "chat = Chat(pairs, reflections)"
   ]
  },
  {
   "cell_type": "code",
   "execution_count": null,
   "id": "f3ea22d5-6fe6-4866-b255-8453292f1a3f",
   "metadata": {},
   "outputs": [],
   "source": [
    "chat.converse()"
   ]
  },
  {
   "cell_type": "code",
   "execution_count": null,
   "id": "493c8ec1-0c99-4d68-b6ad-b4b7a3895072",
   "metadata": {},
   "outputs": [],
   "source": []
  }
 ],
 "metadata": {
  "kernelspec": {
   "display_name": "Python 3 (ipykernel)",
   "language": "python",
   "name": "python3"
  },
  "language_info": {
   "codemirror_mode": {
    "name": "ipython",
    "version": 3
   },
   "file_extension": ".py",
   "mimetype": "text/x-python",
   "name": "python",
   "nbconvert_exporter": "python",
   "pygments_lexer": "ipython3",
   "version": "3.12.4"
  }
 },
 "nbformat": 4,
 "nbformat_minor": 5
}
